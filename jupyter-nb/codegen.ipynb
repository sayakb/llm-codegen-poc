{
 "cells": [
  {
   "cell_type": "markdown",
   "metadata": {},
   "source": [
    "# Generate Custom Angular Component\n",
    "\n",
    "In this notebook, we will use the \"Titan Text G1 - Premier\" foundational model and the \"Titan Embeddings G1 - Text\" embeddings model to analyze the code structure of all Angular components in this application. We will then generate a new custom component using the knowledge stored in an in-memory vector database."
   ]
  },
  {
   "cell_type": "markdown",
   "metadata": {},
   "source": [
    "## Task 1: Environment Setup\n",
    "\n",
    "In this task, you set up your environment."
   ]
  },
  {
   "cell_type": "code",
   "execution_count": null,
   "metadata": {
    "tags": []
   },
   "outputs": [],
   "source": [
    "# Ignore warnings and create a service client by name using the default session.\n",
    "import json\n",
    "import os\n",
    "import sys\n",
    "import warnings\n",
    "\n",
    "import boto3\n",
    "\n",
    "warnings.filterwarnings('ignore')\n",
    "module_path = \"..\"\n",
    "sys.path.append(os.path.abspath(module_path))\n",
    "bedrock_client = boto3.client('bedrock-runtime', region_name=os.environ.get(\"AWS_DEFAULT_REGION\", None))\n"
   ]
  },
  {
   "cell_type": "markdown",
   "metadata": {},
   "source": [
    "## Task 2: Analyze Angular Components\n",
    "\n",
    "In this task, we will use the embeddings model to analyze the code structure of all Angular components in this application."
   ]
  },
  {
   "cell_type": "code",
   "execution_count": null,
   "metadata": {},
   "outputs": [],
   "source": [
    "# Load and analyze Angular component files\n",
    "from langchain_aws.embeddings import BedrockEmbeddings\n",
    "from langchain.vectorstores import FAISS\n",
    "from langchain.document_loaders import LocalDirectoryLoader\n",
    "from langchain.text_splitter import CharacterTextSplitter\n",
    "\n",
    "# Initialize embeddings model\n",
    "embeddings_model = BedrockEmbeddings(model_id=\"amazon.titan-embed-text-v1\", client=bedrock_client)\n",
    "\n",
    "# Load all files in the Angular project directory\n",
    "loader = LocalDirectoryLoader(directory=\"../src/app\")\n",
    "documents = loader.load()\n",
    "print(f\"Loaded {len(documents)} documents.\")\n",
    "\n",
    "# Split documents into chunks\n",
    "text_splitter = CharacterTextSplitter(chunk_size=2000, chunk_overlap=200)\n",
    "docs = text_splitter.split_documents(documents)\n",
    "print(f\"Split into {len(docs)} chunks.\")\n",
    "\n",
    "# Create vector store\n",
    "vectorstore = FAISS.from_documents(docs, embeddings_model)\n",
    "print(\"Vector store created.\")"
   ]
  },
  {
   "cell_type": "markdown",
   "metadata": {},
   "source": [
    "## Task 3: Generate Custom Component\n",
    "\n",
    "In this task, we will use the foundational model to generate a new custom component using the knowledge stored in the in-memory vector database."
   ]
  },
  {
   "cell_type": "code",
   "execution_count": null,
   "metadata": {},
   "outputs": [],
   "source": [
    "# Generate custom component using foundational model\n",
    "from langchain_aws import ChatBedrock\n",
    "from langchain.prompts import ChatPromptTemplate\n",
    "from langchain_core.output_parsers import StrOutputParser\n",
    "\n",
    "# Initialize foundational model\n",
    "chat_model = ChatBedrock(model_id=\"amazon.titan-text-premier-v1:0\", client=bedrock_client)\n",
    "\n",
    "# Define prompt template\n",
    "prompt_template = ChatPromptTemplate.from_messages([\n",
    "    (\"system\", \"You are an AI assistant that generates Angular components based on the analyzed code structure.\"),\n",
    "    (\"user\", \"Generate a new custom Angular component that fits well with the existing components.\")\n",
    "])\n",
    "\n",
    "# Create chain\n",
    "chain = prompt_template | chat_model | StrOutputParser()\n",
    "\n",
    "# Generate component\n",
    "response = chain.invoke({\"input\": \"Generate a new custom Angular component.\"})\n",
    "print(response)"
   ]
  },
  {
   "cell_type": "markdown",
   "metadata": {},
   "source": [
    "## Task 4: Review Generated Component\n",
    "\n",
    "In this task, we will review the generated component and make any necessary adjustments."
   ]
  },
  {
   "cell_type": "code",
   "execution_count": null,
   "metadata": {},
   "outputs": [],
   "source": [
    "# Review the generated component\n",
    "generated_component = response\n",
    "print(\"Generated Component:\")\n",
    "print(generated_component)"
   ]
  },
  {
   "cell_type": "markdown",
   "metadata": {},
   "source": [
    "## Conclusion\n",
    "\n",
    "In this notebook, we used the \"Titan Text G1 - Premier\" foundational model and the \"Titan Embeddings G1 - Text\" embeddings model to analyze the code structure of all Angular components in this application. We then generated a new custom component using the knowledge stored in an in-memory vector database."
   ]
  }
 ],
 "metadata": {
  "kernelspec": {
   "display_name": "Python 3 (ipykernel)",
   "language": "python",
   "name": "python3"
  },
  "language_info": {
   "codemirror_mode": {
    "name": "ipython",
    "version": 3
   },
   "file_extension": ".py",
   "mimetype": "text/x-python",
   "name": "python",
   "nbconvert_exporter": "python",
   "pygments_lexer": "ipython3",
   "version": "3.8.5"
  }
 },
 "nbformat": 4,
 "nbformat_minor": 4
}
