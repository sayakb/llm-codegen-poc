{
 "cells": [
  {
   "cell_type": "markdown",
   "metadata": {},
   "source": [
    "# Analyze Angular Components and Generate a New Component\n",
    "\n",
    "In this notebook, we will use the \"Titan Text G1 - Premier\" foundational model and the \"Titan Embeddings G1 - Text\" embeddings model to analyze the code structure of Angular components and generate a new component based on the analysis."
   ]
  },
  {
   "cell_type": "markdown",
   "metadata": {},
   "source": [
    "## Task 1: Environment Setup\n",
    "\n",
    "First, we need to set up the environment by importing the necessary libraries and creating a service client."
   ]
  },
  {
   "cell_type": "code",
   "execution_count": null,
   "metadata": {
    "tags": []
   },
   "outputs": [],
   "source": [
    "import json\n",
    "import os\n",
    "import sys\n",
    "import warnings\n",
    "\n",
    "import boto3\n",
    "\n",
    "warnings.filterwarnings('ignore')\n",
    "module_path = \"..\"\n",
    "sys.path.append(os.path.abspath(module_path))\n",
    "bedrock_client = boto3.client('bedrock-runtime', region_name=os.environ.get(\"AWS_DEFAULT_REGION\", None))"
   ]
  },
  {
   "cell_type": "markdown",
   "metadata": {},
   "source": [
    "## Task 2: Load and Analyze Angular Components\n",
    "\n",
    "Next, we will load the Angular components from the specified directories and use the embeddings model to analyze their structure."
   ]
  },
  {
   "cell_type": "code",
   "execution_count": null,
   "metadata": {},
   "outputs": [],
   "source": [
    "from langchain_aws.embeddings import BedrockEmbeddings\n",
    "from langchain.vectorstores import FAISS\n",
    "from langchain.document_loaders import TextLoader\n",
    "from langchain.text_splitter import CharacterTextSplitter\n",
    "import os\n",
    "\n",
    "def load_text_files_recursive(directory):\n",
    "    documents = []\n",
    "    for root, _, files in os.walk(directory):\n",
    "        for file in files:\n",
    "            if file.endswith((\".ts\", \".html\", \".css\", \".js\")):\n",
    "                filepath = os.path.join(root, file)\n",
    "                print(f\"Parsing file {filepath}\")  # Added print statement\n",
    "                try:\n",
    "                    loader = TextLoader(filepath)\n",
    "                    documents.extend(loader.load())\n",
    "                except Exception as e:\n",
    "                    print(f\"Error loading file {filepath}: {e}\")\n",
    "    return documents\n",
    "\n",
    "# Load Angular components recursively\n",
    "documents = load_text_files_recursive(\"../src/app\")\n",
    "print(f\"Loaded {len(documents)} documents.\")\n",
    "\n",
    "# Split documents into chunks\n",
    "text_splitter = CharacterTextSplitter(chunk_size=2000, chunk_overlap=400)\n",
    "docs = text_splitter.split_documents(documents)\n",
    "print(f\"Split into {len(docs)} chunks.\")\n",
    "\n",
    "# Create embeddings\n",
    "br_embeddings = BedrockEmbeddings(model_id=\"amazon.titan-embed-text-v1\", client=bedrock_client)\n",
    "\n",
    "# Create vector store\n",
    "vectorstore_faiss = FAISS.from_documents(docs, embedding=br_embeddings)\n",
    "print(\"Vector store created.\")"
   ]
  },
  {
   "cell_type": "markdown",
   "metadata": {},
   "source": [
    "## Task 3: Generate a New Component\n",
    "\n",
    "Now, we will use the foundational model to generate a new Angular component based on the analysis stored in the vector database."
   ]
  },
  {
   "cell_type": "code",
   "execution_count": null,
   "metadata": {},
   "outputs": [],
   "source": [
    "from langchain.chains import create_retrieval_chain\n",
    "from langchain.chains.combine_documents import create_stuff_documents_chain\n",
    "from langchain_core.prompts import ChatPromptTemplate\n",
    "from langchain_aws import ChatBedrock\n",
    "\n",
    "# Initialize chat model\n",
    "chat_model = ChatBedrock(model_id=\"amazon.titan-text-premier-v1:0\", client=bedrock_client)\n",
    "\n",
    "# Define system prompt\n",
    "system_prompt = (\n",
    "    \"You are an assistant for generating Angular components. \"\n",
    "    \"Use the following pieces of retrieved context to generate \"\n",
    "    \"a new Angular component.\"\n",
    "    \"\\n\\n\"\n",
    "    \"{context}\"\n",
    ")\n",
    "\n",
    "# Create prompt template\n",
    "prompt = ChatPromptTemplate.from_messages(\n",
    "    [\n",
    "        (\"system\", system_prompt),\n",
    "        (\"human\", \"Generate an angular component with all the necessary ts, html, js and css files called lava-flow\")\n",
    "    ]\n",
    ")\n",
    "\n",
    "# Create retrieval chain\n",
    "retriever = vectorstore_faiss.as_retriever()\n",
    "question_answer_chain = create_stuff_documents_chain(chat_model, prompt)\n",
    "rag_chain = create_retrieval_chain(retriever, question_answer_chain)\n",
    "\n",
    "# Generate new component\n",
    "response = rag_chain.invoke({\"input\": \"Generate an angular component with all the necessary ts, html, js and css files called lava-flow\"})\n",
    "\n",
    "# Display the generated code in the specified format\n",
    "generated_code = response['answer']\n",
    "print(generated_code)"
   ]
  },
  {
   "cell_type": "markdown",
   "metadata": {},
   "source": [
    "This concludes our experiment!"
   ]
  }
 ],
 "metadata": {
  "kernelspec": {
   "display_name": "Python 3 (ipykernel)",
   "language": "python",
   "name": "python3"
  },
  "language_info": {
   "codemirror_mode": {
    "name": "ipython",
    "version": 3
   },
   "file_extension": ".py",
   "mimetype": "text/x-python",
   "name": "python",
   "nbconvert_exporter": "python",
   "pygments_lexer": "ipython3",
   "version": "3.11.9"
  }
 },
 "nbformat": 4,
 "nbformat_minor": 4
}
